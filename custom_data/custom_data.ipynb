{
 "cells": [
  {
   "cell_type": "code",
   "execution_count": 1,
   "metadata": {},
   "outputs": [
    {
     "data": {
      "text/plain": [
       "'Generating random data'"
      ]
     },
     "execution_count": 1,
     "metadata": {},
     "output_type": "execute_result"
    }
   ],
   "source": [
    "\"\"\"Generating random data\"\"\""
   ]
  },
  {
   "cell_type": "code",
   "execution_count": null,
   "metadata": {},
   "outputs": [],
   "source": [
    "import pickle\n",
    "import numpy as np\n",
    "import pandas as pd"
   ]
  },
  {
   "cell_type": "code",
   "execution_count": null,
   "metadata": {},
   "outputs": [],
   "source": [
    "\"\"\"Generate random data\"\"\"\n",
    "\n",
    "# Set the parameters\n",
    "num_neurons = 33\n",
    "num_trials = 41\n",
    "trial_duration = 2.0  # in seconds\n",
    "spike_data = []\n",
    "\n",
    "# Generate spike firing data\n",
    "for _ in range(num_neurons):\n",
    "    neuron_spikes = []\n",
    "    for _ in range(num_trials):\n",
    "        spike_times = np.random.choice([0, 1], size=2000)\n",
    "        neuron_spikes.append(spike_times)\n",
    "    spike_data.append(neuron_spikes)\n",
    "\n",
    "# Checking the shapes\n",
    "spike_data_array = np.array(spike_data)\n",
    "print(spike_data_array.shape)                 # Output: (33, 41, 2000)\n",
    "print(spike_data_array[0].shape)              # Output: (41, 2000)\n",
    "print(spike_data_array[0][0].shape)           # Output: (2000,)"
   ]
  },
  {
   "cell_type": "code",
   "execution_count": null,
   "metadata": {},
   "outputs": [],
   "source": [
    "# Assuming you have already generated the spike_data_array\n",
    "spike_data_series = pd.Series(spike_data_array.tolist())\n",
    "\n",
    "# Printing the resulting series\n",
    "print(spike_data_series)"
   ]
  },
  {
   "cell_type": "code",
   "execution_count": null,
   "metadata": {},
   "outputs": [],
   "source": [
    "# Assuming you have already generated the spike_data_array\n",
    "spike_data_series = pd.Series([np.array(row) for row in spike_data_array])\n",
    "\n",
    "# Printing the resulting series\n",
    "spike_data_series.shape"
   ]
  },
  {
   "cell_type": "code",
   "execution_count": null,
   "metadata": {},
   "outputs": [],
   "source": [
    "with open('../data/neural_activity_2.p', 'wb') as file:\n",
    "    pickle.dump(spike_data_series, file)"
   ]
  },
  {
   "cell_type": "code",
   "execution_count": null,
   "metadata": {},
   "outputs": [],
   "source": [
    "\"\"\"Generate data with clusters\"\"\"\n",
    "\n",
    "# Set the parameters\n",
    "num_neurons = 33\n",
    "num_trials = 41\n",
    "trial_duration = 2.0  # in seconds\n",
    "cluster_size = num_neurons // 4\n",
    "\n",
    "# Generate spike firing data with patterns\n",
    "spike_data = []\n",
    "for i in range(num_neurons):\n",
    "    cluster_idx = i // cluster_size  # Assign cluster index based on neuron index\n",
    "    pattern = np.zeros(2000)  # Initialize pattern with zeros\n",
    "    pattern[(cluster_idx * 500):((cluster_idx + 1) * 500)] = 1  # Set a block of 1s in the pattern\n",
    "    neuron_spikes = []\n",
    "    for _ in range(num_trials):\n",
    "        spike_times = np.random.choice(pattern, size=2000)  # Use pattern for spike firing\n",
    "        neuron_spikes.append(spike_times)\n",
    "    spike_data.append(neuron_spikes)\n",
    "\n",
    "# Checking the shapes\n",
    "spike_data_array = np.array(spike_data)\n",
    "print(spike_data_array.shape)                 # Output: (33, 41, 2000)\n",
    "print(spike_data_array[0].shape)              # Output: (41, 2000)\n",
    "print(spike_data_array[0][0].shape)           # Output: (2000,)"
   ]
  },
  {
   "cell_type": "code",
   "execution_count": null,
   "metadata": {},
   "outputs": [],
   "source": [
    "# Assuming you have already generated the spike_data_array\n",
    "spike_data_series = pd.Series(spike_data_array.tolist())\n",
    "\n",
    "# Printing the resulting series\n",
    "print(spike_data_series)"
   ]
  },
  {
   "cell_type": "code",
   "execution_count": null,
   "metadata": {},
   "outputs": [],
   "source": [
    "# Assuming you have already generated the spike_data_array\n",
    "spike_data_series = pd.Series([np.array(row) for row in spike_data_array])\n",
    "\n",
    "# Printing the resulting series\n",
    "spike_data_series.shape"
   ]
  },
  {
   "cell_type": "code",
   "execution_count": null,
   "metadata": {},
   "outputs": [],
   "source": [
    "with open('../data/neural_activity_2.p', 'wb') as file:\n",
    "    pickle.dump(spike_data_series, file)"
   ]
  }
 ],
 "metadata": {
  "kernelspec": {
   "display_name": "myenv",
   "language": "python",
   "name": "python3"
  },
  "language_info": {
   "codemirror_mode": {
    "name": "ipython",
    "version": 3
   },
   "file_extension": ".py",
   "mimetype": "text/x-python",
   "name": "python",
   "nbconvert_exporter": "python",
   "pygments_lexer": "ipython3",
   "version": "3.8.15"
  },
  "orig_nbformat": 4
 },
 "nbformat": 4,
 "nbformat_minor": 2
}
